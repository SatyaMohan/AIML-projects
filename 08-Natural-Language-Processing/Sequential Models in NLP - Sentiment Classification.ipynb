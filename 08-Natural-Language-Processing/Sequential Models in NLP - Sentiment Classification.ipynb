{
 "cells": [
  {
   "cell_type": "markdown",
   "metadata": {
    "id": "OudB5by50jlI"
   },
   "source": [
    "# Sentiment Classification"
   ]
  },
  {
   "cell_type": "markdown",
   "metadata": {
    "id": "xT7MKZuMRaCg"
   },
   "source": [
    "### Dataset\n",
    "- Dataset of 50,000 movie reviews from IMDB, labeled by sentiment positive (1) or negative (0)\n",
    "- Reviews have been preprocessed, and each review is encoded as a sequence of word indexes (integers).\n",
    "- For convenience, words are indexed by overall frequency in the dataset, so that for instance the integer \"3\" encodes the 3rd most frequent word in the data. This allows for quick filtering operations such as: \"only consider the top 10,000 most common words, but eliminate the top 20 most common words\".\n",
    "- As a convention, \"0\" does not stand for a specific word, but instead is used to encode any unknown word.\n",
    "\n",
    "Command to import data\n",
    "- `from tensorflow.keras.datasets import imdb`"
   ]
  },
  {
   "cell_type": "markdown",
   "metadata": {
    "id": "Q34-Y3nRKXdO"
   },
   "source": [
    "### Import the data\n",
    "- Use `imdb.load_data()` method\n",
    "- Get train and test set\n",
    "- Take 10000 most frequent words"
   ]
  },
  {
   "cell_type": "code",
   "execution_count": 1,
   "metadata": {
    "colab": {
     "base_uri": "https://localhost:8080/"
    },
    "executionInfo": {
     "elapsed": 8094,
     "status": "ok",
     "timestamp": 1604151046996,
     "user": {
      "displayName": "M V Satya Mohan",
      "photoUrl": "",
      "userId": "18088140983016469520"
     },
     "user_tz": -330
    },
    "id": "k3wEGy1Q2UFF",
    "outputId": "a7b06491-d40a-4bfd-c390-1fac8e52b082"
   },
   "outputs": [
    {
     "name": "stdout",
     "output_type": "stream",
     "text": [
      "Downloading data from https://storage.googleapis.com/tensorflow/tf-keras-datasets/imdb.npz\n",
      "17465344/17464789 [==============================] - 2s 0us/step\n"
     ]
    }
   ],
   "source": [
    "import numpy as np\n",
    "from tensorflow.keras.datasets import imdb\n",
    "\n",
    "data = imdb.load_data(num_words=10000) # Take the top 10000 frequent words"
   ]
  },
  {
   "cell_type": "code",
   "execution_count": 2,
   "metadata": {
    "executionInfo": {
     "elapsed": 1130,
     "status": "ok",
     "timestamp": 1604151060475,
     "user": {
      "displayName": "M V Satya Mohan",
      "photoUrl": "",
      "userId": "18088140983016469520"
     },
     "user_tz": -330
    },
    "id": "Alujxsm22UFK"
   },
   "outputs": [],
   "source": [
    "X_train, y_train = data[0]\n",
    "X_test, y_test = data[1]"
   ]
  },
  {
   "cell_type": "markdown",
   "metadata": {
    "id": "DldivBO4LTbP"
   },
   "source": [
    "### Pad each sentence to be of same length\n",
    "- Take maximum sequence length as 300"
   ]
  },
  {
   "cell_type": "code",
   "execution_count": 3,
   "metadata": {
    "executionInfo": {
     "elapsed": 1852,
     "status": "ok",
     "timestamp": 1604151081538,
     "user": {
      "displayName": "M V Satya Mohan",
      "photoUrl": "",
      "userId": "18088140983016469520"
     },
     "user_tz": -330
    },
    "id": "BAdTNgoY2UFS"
   },
   "outputs": [],
   "source": [
    "from tensorflow.keras.preprocessing.sequence import pad_sequences\n",
    "\n",
    "# Pad the sentences with 0 to mark them as unknown word\n",
    "max_len = 300\n",
    "X_train_pad = pad_sequences(X_train, maxlen=max_len, padding='post', value=0)\n",
    "X_test_pad = pad_sequences(X_test, maxlen=max_len, padding='post', value=0)"
   ]
  },
  {
   "cell_type": "markdown",
   "metadata": {
    "id": "JBFFCrybMSXz"
   },
   "source": [
    "### Print shape of features & labels"
   ]
  },
  {
   "cell_type": "markdown",
   "metadata": {
    "id": "qOcyRtZfMYZd"
   },
   "source": [
    "Number of review, number of words in each review"
   ]
  },
  {
   "cell_type": "code",
   "execution_count": 4,
   "metadata": {
    "colab": {
     "base_uri": "https://localhost:8080/"
    },
    "executionInfo": {
     "elapsed": 1122,
     "status": "ok",
     "timestamp": 1604151087669,
     "user": {
      "displayName": "M V Satya Mohan",
      "photoUrl": "",
      "userId": "18088140983016469520"
     },
     "user_tz": -330
    },
    "id": "hdMCUPr7RaCm",
    "outputId": "4c6a6f5b-500d-40f1-8015-fdfd18a8ba68"
   },
   "outputs": [
    {
     "name": "stdout",
     "output_type": "stream",
     "text": [
      "Number of reviews in train set: 25000\n",
      "Number of labels in train set: 25000\n",
      "\n",
      "Number of reviews in test set: 25000\n",
      "Number of labels in test set: 25000\n",
      "\n"
     ]
    }
   ],
   "source": [
    "# Number of reviews in train and test set\n",
    "print(f\"Number of reviews in train set: {len(X_train_pad)}\")\n",
    "print(f\"Number of labels in train set: {len(y_train)}\\n\")\n",
    "print(f\"Number of reviews in test set: {len(X_test_pad)}\")\n",
    "print(f\"Number of labels in test set: {len(y_test)}\\n\")"
   ]
  },
  {
   "cell_type": "code",
   "execution_count": 5,
   "metadata": {
    "colab": {
     "base_uri": "https://localhost:8080/"
    },
    "executionInfo": {
     "elapsed": 1137,
     "status": "ok",
     "timestamp": 1604151091525,
     "user": {
      "displayName": "M V Satya Mohan",
      "photoUrl": "",
      "userId": "18088140983016469520"
     },
     "user_tz": -330
    },
    "id": "eGVHeKOWyJiG",
    "outputId": "021d6dda-83d3-4f37-c7d1-d20d41dfa9a7"
   },
   "outputs": [
    {
     "name": "stdout",
     "output_type": "stream",
     "text": [
      "Avg number of words per review in train set: 238.71364\n",
      "Avg number of words per review in test set: 230.8042\n"
     ]
    }
   ],
   "source": [
    "# Average number of words per review in train and test set\n",
    "import statistics as stat\n",
    "\n",
    "train_set_avg = stat.mean([len(x) for x in X_train])\n",
    "test_set_avg = stat.mean([len(x) for x in X_test])\n",
    "\n",
    "print(f\"Avg number of words per review in train set: {train_set_avg}\")\n",
    "print(f\"Avg number of words per review in test set: {test_set_avg}\")"
   ]
  },
  {
   "cell_type": "markdown",
   "metadata": {
    "id": "5cNk5sDvMr3j"
   },
   "source": [
    "Number of labels"
   ]
  },
  {
   "cell_type": "code",
   "execution_count": 6,
   "metadata": {
    "colab": {
     "base_uri": "https://localhost:8080/"
    },
    "executionInfo": {
     "elapsed": 1293,
     "status": "ok",
     "timestamp": 1604151118887,
     "user": {
      "displayName": "M V Satya Mohan",
      "photoUrl": "",
      "userId": "18088140983016469520"
     },
     "user_tz": -330
    },
    "id": "6Z00-mYgMoKv",
    "outputId": "e216ddc0-d068-4cc6-fe92-fb14f3fa7e12"
   },
   "outputs": [
    {
     "name": "stdout",
     "output_type": "stream",
     "text": [
      "Number of labels in train set: 25000\n",
      "Number of labels in test set: 25000\n"
     ]
    }
   ],
   "source": [
    "# Number of labels in train and test set\n",
    "\n",
    "print(f\"Number of labels in train set: {len(y_train)}\")\n",
    "print(f\"Number of labels in test set: {len(y_test)}\")"
   ]
  },
  {
   "cell_type": "code",
   "execution_count": 7,
   "metadata": {
    "colab": {
     "base_uri": "https://localhost:8080/"
    },
    "executionInfo": {
     "elapsed": 1242,
     "status": "ok",
     "timestamp": 1604151122709,
     "user": {
      "displayName": "M V Satya Mohan",
      "photoUrl": "",
      "userId": "18088140983016469520"
     },
     "user_tz": -330
    },
    "id": "H7f5tPeaMxti",
    "outputId": "1f31dfdc-5145-47fd-916f-0f86ee051ac7"
   },
   "outputs": [
    {
     "name": "stdout",
     "output_type": "stream",
     "text": [
      "Percentage positive reviews in train set: 0.5\n",
      "Percentage positive reviews in test set: 0.5\n"
     ]
    }
   ],
   "source": [
    "# Positive reviews % \n",
    "\n",
    "pct_pos_train = stat.mean([int(x) for x in y_train])\n",
    "pct_pos_test = stat.mean([int(x) for x in y_test])\n",
    "\n",
    "print(f\"Percentage positive reviews in train set: {pct_pos_train}\")\n",
    "print(f\"Percentage positive reviews in test set: {pct_pos_test}\")"
   ]
  },
  {
   "cell_type": "markdown",
   "metadata": {
    "id": "NdXPWuOmNEbh"
   },
   "source": [
    "### Print value of any one feature and it's label"
   ]
  },
  {
   "cell_type": "markdown",
   "metadata": {
    "id": "MGLEdeFmNZfR"
   },
   "source": [
    "Feature value"
   ]
  },
  {
   "cell_type": "code",
   "execution_count": 8,
   "metadata": {
    "colab": {
     "base_uri": "https://localhost:8080/"
    },
    "executionInfo": {
     "elapsed": 1089,
     "status": "ok",
     "timestamp": 1604151125844,
     "user": {
      "displayName": "M V Satya Mohan",
      "photoUrl": "",
      "userId": "18088140983016469520"
     },
     "user_tz": -330
    },
    "id": "RKFyMa28zztL",
    "outputId": "1bcd6632-3360-4ff0-9cc6-7db83300b3d1"
   },
   "outputs": [
    {
     "name": "stdout",
     "output_type": "stream",
     "text": [
      "[1, 194, 1153, 194, 8255, 78, 228, 5, 6, 1463, 4369, 5012, 134, 26, 4, 715, 8, 118, 1634, 14, 394, 20, 13, 119, 954, 189, 102, 5, 207, 110, 3103, 21, 14, 69, 188, 8, 30, 23, 7, 4, 249, 126, 93, 4, 114, 9, 2300, 1523, 5, 647, 4, 116, 9, 35, 8163, 4, 229, 9, 340, 1322, 4, 118, 9, 4, 130, 4901, 19, 4, 1002, 5, 89, 29, 952, 46, 37, 4, 455, 9, 45, 43, 38, 1543, 1905, 398, 4, 1649, 26, 6853, 5, 163, 11, 3215, 2, 4, 1153, 9, 194, 775, 7, 8255, 2, 349, 2637, 148, 605, 2, 8003, 15, 123, 125, 68, 2, 6853, 15, 349, 165, 4362, 98, 5, 4, 228, 9, 43, 2, 1157, 15, 299, 120, 5, 120, 174, 11, 220, 175, 136, 50, 9, 4373, 228, 8255, 5, 2, 656, 245, 2350, 5, 4, 9837, 131, 152, 491, 18, 2, 32, 7464, 1212, 14, 9, 6, 371, 78, 22, 625, 64, 1382, 9, 8, 168, 145, 23, 4, 1690, 15, 16, 4, 1355, 5, 28, 6, 52, 154, 462, 33, 89, 78, 285, 16, 145, 95]\n"
     ]
    }
   ],
   "source": [
    "# Print 2nd review from train set\n",
    "print(X_train[1])"
   ]
  },
  {
   "cell_type": "markdown",
   "metadata": {
    "id": "h_85Hqm0Nb1I"
   },
   "source": [
    "Label value"
   ]
  },
  {
   "cell_type": "code",
   "execution_count": 9,
   "metadata": {
    "colab": {
     "base_uri": "https://localhost:8080/"
    },
    "executionInfo": {
     "elapsed": 1120,
     "status": "ok",
     "timestamp": 1604151132882,
     "user": {
      "displayName": "M V Satya Mohan",
      "photoUrl": "",
      "userId": "18088140983016469520"
     },
     "user_tz": -330
    },
    "id": "-FoehB5jNd1g",
    "outputId": "9e75a3e3-a41a-4fba-9923-52c8c14bd4c1"
   },
   "outputs": [
    {
     "name": "stdout",
     "output_type": "stream",
     "text": [
      "0\n"
     ]
    }
   ],
   "source": [
    "# Print its label\n",
    "print(y_train[1])"
   ]
  },
  {
   "cell_type": "markdown",
   "metadata": {
    "id": "U10GQX6S2UFy"
   },
   "source": [
    "It's a negative review..."
   ]
  },
  {
   "cell_type": "markdown",
   "metadata": {
    "id": "0cof4LSxNxuv"
   },
   "source": [
    "### Decode the feature value to get original sentence"
   ]
  },
  {
   "cell_type": "markdown",
   "metadata": {
    "id": "Q_oiAyPZOkJD"
   },
   "source": [
    "First, retrieve a dictionary that contains mapping of words to their index in the IMDB dataset"
   ]
  },
  {
   "cell_type": "code",
   "execution_count": 10,
   "metadata": {
    "colab": {
     "base_uri": "https://localhost:8080/"
    },
    "executionInfo": {
     "elapsed": 1092,
     "status": "ok",
     "timestamp": 1604151177697,
     "user": {
      "displayName": "M V Satya Mohan",
      "photoUrl": "",
      "userId": "18088140983016469520"
     },
     "user_tz": -330
    },
    "id": "Clsk-yK8OtzD",
    "outputId": "eed10d84-5e26-4781-94d2-1e0079d3f13e"
   },
   "outputs": [
    {
     "name": "stdout",
     "output_type": "stream",
     "text": [
      "Downloading data from https://storage.googleapis.com/tensorflow/tf-keras-datasets/imdb_word_index.json\n",
      "1646592/1641221 [==============================] - 0s 0us/step\n"
     ]
    }
   ],
   "source": [
    "# Use get_word_index function to get the mapping dictionary\n",
    "\n",
    "imdb_word_index = imdb.get_word_index()"
   ]
  },
  {
   "cell_type": "markdown",
   "metadata": {
    "id": "NRgOD5S2Uuvd"
   },
   "source": [
    "Now use the dictionary to get the original words from the encodings, for a particular sentence"
   ]
  },
  {
   "cell_type": "code",
   "execution_count": 11,
   "metadata": {
    "executionInfo": {
     "elapsed": 1416,
     "status": "ok",
     "timestamp": 1604151182341,
     "user": {
      "displayName": "M V Satya Mohan",
      "photoUrl": "",
      "userId": "18088140983016469520"
     },
     "user_tz": -330
    },
    "id": "IBx0TCVa2UF5"
   },
   "outputs": [],
   "source": [
    "# First we need to reverse the mapping to get it in index -> word form\n",
    "\n",
    "imdb_index_word = {imdb_word_index[word]:word for word in imdb_word_index}"
   ]
  },
  {
   "cell_type": "code",
   "execution_count": 64,
   "metadata": {
    "colab": {
     "base_uri": "https://localhost:8080/"
    },
    "executionInfo": {
     "elapsed": 1614,
     "status": "ok",
     "timestamp": 1604151184494,
     "user": {
      "displayName": "M V Satya Mohan",
      "photoUrl": "",
      "userId": "18088140983016469520"
     },
     "user_tz": -330
    },
    "id": "zJ504QDORwxj",
    "outputId": "4a8ae268-f32f-42e0-8165-b9373eaf9d91"
   },
   "outputs": [
    {
     "name": "stdout",
     "output_type": "stream",
     "text": [
      "Review:\n",
      "\n",
      "the thought solid thought senator do making to is spot nomination assumed while he of jack in where picked as getting on was did hands fact characters to always life thrillers not as me can't in at are br of sure your way of little it strongly random to view of love it so principles of guy it used producer of where it of here icon film of outside to don't all unique some like of direction it if out her imagination below keep of queen he diverse to makes this stretch and of solid it thought begins br senator and budget worthwhile though ok and awaiting for ever better were and diverse for budget look kicked any to of making it out and follows for effects show to show cast this family us scenes more it severe making senator to and finds tv tend to of emerged these thing wants but and an beckinsale cult as it is video do you david see scenery it in few those are of ship for with of wild to one is very work dark they don't do dvd with those them\n"
     ]
    }
   ],
   "source": [
    "# Use the imdb_index_word mapping to map the indices to words\n",
    "\n",
    "sample_review = X_train[1]\n",
    "sample_label = y_train[1]\n",
    "\n",
    "decoded_review = \" \".join([imdb_index_word[idx] for idx in sample_review])\n",
    "print(f\"Review:\\n\\n{decoded_review}\")"
   ]
  },
  {
   "cell_type": "markdown",
   "metadata": {
    "id": "WLGABrJoVZe6"
   },
   "source": [
    "Get the sentiment for the above sentence\n",
    "- positive (1)\n",
    "- negative (0)"
   ]
  },
  {
   "cell_type": "code",
   "execution_count": 65,
   "metadata": {
    "colab": {
     "base_uri": "https://localhost:8080/"
    },
    "executionInfo": {
     "elapsed": 1119,
     "status": "ok",
     "timestamp": 1604151189448,
     "user": {
      "displayName": "M V Satya Mohan",
      "photoUrl": "",
      "userId": "18088140983016469520"
     },
     "user_tz": -330
    },
    "id": "XDyQGJT0Ve-a",
    "outputId": "e14456ac-0f71-4bac-a7da-f990f0e835ae"
   },
   "outputs": [
    {
     "name": "stdout",
     "output_type": "stream",
     "text": [
      "Sentiment: Negative\n"
     ]
    }
   ],
   "source": [
    "# Get the sentiment for this review\n",
    "\n",
    "sentiment = 'Positive' if sample_label else 'Negative'\n",
    "print(f\"Sentiment: {sentiment}\")"
   ]
  },
  {
   "cell_type": "markdown",
   "metadata": {
    "id": "BmCjr8miXIWB"
   },
   "source": [
    "### Define model\n",
    "- Define a Sequential Model\n",
    "- Add Embedding layer\n",
    "  - Embedding layer turns positive integers into dense vectors of fixed size\n",
    "  - `tensorflow.keras` embedding layer doesn't require us to onehot encode our words, instead we have to give each word a unique integer number as an id. For the imdb dataset we've loaded this has already been done, but if this wasn't the case we could use sklearn LabelEncoder.\n",
    "  - Size of the vocabulary will be 10000\n",
    "  - Give dimension of the dense embedding as 100\n",
    "  - Length of input sequences should be 300\n",
    "- Add LSTM layer\n",
    "  - Pass value in `return_sequences` as True\n",
    "- Add a `TimeDistributed` layer with 100 Dense neurons\n",
    "- Add Flatten layer\n",
    "- Add Dense layer"
   ]
  },
  {
   "cell_type": "code",
   "execution_count": 42,
   "metadata": {
    "colab": {
     "base_uri": "https://localhost:8080/"
    },
    "executionInfo": {
     "elapsed": 6541,
     "status": "ok",
     "timestamp": 1604151206322,
     "user": {
      "displayName": "M V Satya Mohan",
      "photoUrl": "",
      "userId": "18088140983016469520"
     },
     "user_tz": -330
    },
    "id": "Np5GxT1caFEq",
    "outputId": "ef3e8cdb-f1ac-4d5a-ff68-4d731f46bd50"
   },
   "outputs": [
    {
     "name": "stdout",
     "output_type": "stream",
     "text": [
      "WARNING:tensorflow:Layer lstm_9 will not use cuDNN kernel since it doesn't meet the cuDNN kernel criteria. It will use generic GPU kernel as fallback when running on GPU\n",
      "WARNING:tensorflow:Layer lstm_10 will not use cuDNN kernel since it doesn't meet the cuDNN kernel criteria. It will use generic GPU kernel as fallback when running on GPU\n"
     ]
    }
   ],
   "source": [
    "from tensorflow.keras.models import Model\n",
    "from tensorflow.keras.layers import LSTM, Embedding, Dense, TimeDistributed, Input, Flatten, SpatialDropout1D\n",
    "\n",
    "inputs = Input(shape=(max_len,)) # Input layer\n",
    "model = Embedding(input_dim=10000, output_dim=100, input_length=max_len)(inputs) # Word embedding layer\n",
    "model = SpatialDropout1D(0.4)(model) # Dropout layer\n",
    "model = LSTM(units=300, return_sequences=True, dropout=0.2, recurrent_dropout=0.2)(model) # LSTM layer with dropout\n",
    "model = LSTM(units=200, return_sequences=True, dropout=0.2, recurrent_dropout=0.2)(model) # LSTM layer with dropout\n",
    "model = TimeDistributed(Dense(100, activation='relu'))(model) # Time-distributed layer\n",
    "model = Flatten()(model) # Flatten\n",
    "out = Dense(1, activation='sigmoid')(model) # Sigmoid output layer\n",
    "\n",
    "model = Model(inputs, out) # Complete model"
   ]
  },
  {
   "cell_type": "markdown",
   "metadata": {
    "id": "Hc4bknOobDby"
   },
   "source": [
    "### Compile the model\n",
    "- Use Optimizer as Adam\n",
    "- Use Binary Crossentropy as loss\n",
    "- Use Accuracy as metrics"
   ]
  },
  {
   "cell_type": "code",
   "execution_count": 43,
   "metadata": {
    "executionInfo": {
     "elapsed": 1190,
     "status": "ok",
     "timestamp": 1604151223195,
     "user": {
      "displayName": "M V Satya Mohan",
      "photoUrl": "",
      "userId": "18088140983016469520"
     },
     "user_tz": -330
    },
    "id": "jw4RJ0CQbwFY"
   },
   "outputs": [],
   "source": [
    "model.compile(optimizer=\"adam\", loss=\"binary_crossentropy\", metrics=[\"accuracy\"]) # Compile the model"
   ]
  },
  {
   "cell_type": "markdown",
   "metadata": {
    "id": "8sEzwazqbz3T"
   },
   "source": [
    "### Print model summary"
   ]
  },
  {
   "cell_type": "code",
   "execution_count": 44,
   "metadata": {
    "colab": {
     "base_uri": "https://localhost:8080/"
    },
    "executionInfo": {
     "elapsed": 2156,
     "status": "ok",
     "timestamp": 1604151494631,
     "user": {
      "displayName": "M V Satya Mohan",
      "photoUrl": "",
      "userId": "18088140983016469520"
     },
     "user_tz": -330
    },
    "id": "6Hx1yxwlb2Ue",
    "outputId": "a03f01e4-32f4-49ee-f6f8-3e9b1fcacac0"
   },
   "outputs": [
    {
     "name": "stdout",
     "output_type": "stream",
     "text": [
      "Model: \"functional_13\"\n",
      "_________________________________________________________________\n",
      "Layer (type)                 Output Shape              Param #   \n",
      "=================================================================\n",
      "input_8 (InputLayer)         [(None, 300)]             0         \n",
      "_________________________________________________________________\n",
      "embedding_7 (Embedding)      (None, 300, 100)          1000000   \n",
      "_________________________________________________________________\n",
      "spatial_dropout1d_4 (Spatial (None, 300, 100)          0         \n",
      "_________________________________________________________________\n",
      "lstm_9 (LSTM)                (None, 300, 300)          481200    \n",
      "_________________________________________________________________\n",
      "lstm_10 (LSTM)               (None, 300, 200)          400800    \n",
      "_________________________________________________________________\n",
      "time_distributed_6 (TimeDist (None, 300, 100)          20100     \n",
      "_________________________________________________________________\n",
      "flatten_6 (Flatten)          (None, 30000)             0         \n",
      "_________________________________________________________________\n",
      "dense_13 (Dense)             (None, 1)                 30001     \n",
      "=================================================================\n",
      "Total params: 1,932,101\n",
      "Trainable params: 1,932,101\n",
      "Non-trainable params: 0\n",
      "_________________________________________________________________\n",
      "None\n"
     ]
    }
   ],
   "source": [
    "print(model.summary())"
   ]
  },
  {
   "cell_type": "markdown",
   "metadata": {
    "id": "bmkolKP4b-U6"
   },
   "source": [
    "### Fit the model"
   ]
  },
  {
   "cell_type": "code",
   "execution_count": 45,
   "metadata": {
    "colab": {
     "base_uri": "https://localhost:8080/",
     "height": 340
    },
    "executionInfo": {
     "elapsed": 51443,
     "status": "error",
     "timestamp": 1604151570225,
     "user": {
      "displayName": "M V Satya Mohan",
      "photoUrl": "",
      "userId": "18088140983016469520"
     },
     "user_tz": -330
    },
    "id": "vRg3KFXLcAkk",
    "outputId": "9c1223c2-6c7d-4b1c-e682-7e8cf783f711"
   },
   "outputs": [
    {
     "name": "stdout",
     "output_type": "stream",
     "text": [
      "Epoch 1/3\n",
      "250/250 [==============================] - 163s 651ms/step - loss: 0.4356 - accuracy: 0.7780 - val_loss: 0.2908 - val_accuracy: 0.8836\n",
      "Epoch 2/3\n",
      "250/250 [==============================] - 163s 652ms/step - loss: 0.2280 - accuracy: 0.9114 - val_loss: 0.2803 - val_accuracy: 0.8846\n",
      "Epoch 3/3\n",
      "250/250 [==============================] - 162s 650ms/step - loss: 0.1671 - accuracy: 0.9357 - val_loss: 0.3034 - val_accuracy: 0.8831\n"
     ]
    }
   ],
   "source": [
    "history = model.fit(X_train_pad, y_train, batch_size=100, epochs=3, validation_data=(X_test_pad, y_test), verbose=1)"
   ]
  },
  {
   "cell_type": "markdown",
   "metadata": {
    "id": "bwLl54MXnkEA"
   },
   "source": [
    "### Evaluate model"
   ]
  },
  {
   "cell_type": "code",
   "execution_count": 46,
   "metadata": {
    "id": "EUqY-bD8RaDR"
   },
   "outputs": [
    {
     "name": "stdout",
     "output_type": "stream",
     "text": [
      "782/782 [==============================] - 85s 109ms/step - loss: 0.3034 - accuracy: 0.8831\n"
     ]
    },
    {
     "data": {
      "text/plain": [
       "[0.30342113971710205, 0.8831200003623962]"
      ]
     },
     "execution_count": 46,
     "metadata": {},
     "output_type": "execute_result"
    }
   ],
   "source": [
    "# Check accuracy on test set\n",
    "model.evaluate(X_test_pad, y_test)"
   ]
  },
  {
   "cell_type": "markdown",
   "metadata": {
    "id": "h2amr1tJn9Jz"
   },
   "source": [
    "### Predict on one sample"
   ]
  },
  {
   "cell_type": "code",
   "execution_count": 71,
   "metadata": {},
   "outputs": [
    {
     "name": "stdout",
     "output_type": "stream",
     "text": [
      "Review:\n",
      "\n",
      "the wonder own as by is sequence i i and and to of hollywood br of down shouting getting boring of ever it sadly sadly sadly i i was then does don't close faint after one carry as by are be favourites all family turn in does as three part in another some to be probably with world and her an have faint beginning own as is sequence\n",
      "\n",
      "\n",
      "Sentiment: Negative\n"
     ]
    }
   ],
   "source": [
    "# Look at 1st test sample\n",
    "\n",
    "test_sample = X_test[0]\n",
    "sample_label = y_test[0]\n",
    "\n",
    "decoded_test_review = \" \".join([imdb_index_word[idx] for idx in test_sample])\n",
    "\n",
    "print(f\"Review:\\n\\n{decoded_test_review}\")\n",
    "print(f\"\\n\\nSentiment: {'Positive' if sample_label else 'Negative'}\")"
   ]
  },
  {
   "cell_type": "code",
   "execution_count": 69,
   "metadata": {
    "id": "Wl4idfWR_A8E"
   },
   "outputs": [
    {
     "name": "stdout",
     "output_type": "stream",
     "text": [
      "Predicted Sentiment: Negative\n"
     ]
    }
   ],
   "source": [
    "# Predict the review\n",
    "\n",
    "test_sample = X_test_pad[0]\n",
    "prediction = 'Positive' if model.predict(x=np.array([test_sample]))[0] > 0.5 else 'Negative'\n",
    "\n",
    "print(f\"Predicted Sentiment: {prediction}\")"
   ]
  },
  {
   "cell_type": "markdown",
   "metadata": {},
   "source": [
    "## Conclusion"
   ]
  },
  {
   "cell_type": "markdown",
   "metadata": {},
   "source": [
    "We have successfully build a sentiment classification model for movie reviews achieving **88% accuracy**"
   ]
  }
 ],
 "metadata": {
  "accelerator": "GPU",
  "colab": {
   "collapsed_sections": [],
   "name": "Questions - Project 1 - Sequential Models in NLP - Sentiment Classification.ipynb",
   "provenance": []
  },
  "kernelspec": {
   "display_name": "Python 3",
   "language": "python",
   "name": "python3"
  },
  "language_info": {
   "codemirror_mode": {
    "name": "ipython",
    "version": 3
   },
   "file_extension": ".py",
   "mimetype": "text/x-python",
   "name": "python",
   "nbconvert_exporter": "python",
   "pygments_lexer": "ipython3",
   "version": "3.7.4"
  }
 },
 "nbformat": 4,
 "nbformat_minor": 1
}
